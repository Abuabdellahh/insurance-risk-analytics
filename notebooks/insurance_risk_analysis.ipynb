{
 "cells": [
  {
   "cell_type": "markdown",
   "metadata": {},
   "source": [
    "# Insurance Risk Analytics Notebook\n",
    "\n",
    "This notebook demonstrates the end-to-end workflow for insurance risk analysis using our custom modules."
   ]
  },
  {
   "cell_type": "code",
   "execution_count": null,
   "metadata": {},
   "source": [
    "# Import necessary modules\n",
    "from src.data_processing import DataProcessor\n",
    "from src.eda_utils import EDAAnalyzer\n",
    "from src.modeling import InsuranceModeler\n",
    "from src.visualization import InsuranceVisualizer\n",
    "import pandas as pd\n",
    "import numpy as np"
   ]
  },
  {
   "cell_type": "markdown",
   "metadata": {},
   "source": [
    "## 1. Data Processing"
   ]
  },
  {
   "cell_type": "code",
   "execution_count": null,
   "metadata": {},
   "source": [
    "# Initialize data processor\n",
    "processor = DataProcessor()\n",
    "\n",
    "# Load data\n",
    "df = processor.load_data('data/insurance_data.csv')\n",
    "\n",
    "# Clean data\n",
    "cleaned_df = processor.clean_data(\n",
    "    remove_duplicates=True,\n",
    "    handle_missing='auto',\n",
    "    outlier_method='iqr'\n",
    ")\n",
    "\n",
    "# Create features\n",
    "feature_df = processor.create_insurance_features()"
   ]
  },
  {
   "cell_type": "markdown",
   "metadata": {},
   "source": [
    "## 2. Exploratory Data Analysis"
   ]
  },
  {
   "cell_type": "code",
   "execution_count": null,
   "metadata": {},
   "source": [
    "# Initialize EDA analyzer\n",
    "eda = EDAAnalyzer(feature_df)\n",
    "\n",
    "# Generate statistical profiles\n",
    "eda.generate_statistical_profile()\n",
    "\n",
    "# Plot distributions\n",
    "eda.plot_numerical_distributions()\n",
    "eda.plot_categorical_distributions()"
   ]
  },
  {
   "cell_type": "markdown",
   "metadata": {},
   "source": [
    "## 3. Modeling"
   ]
  },
  {
   "cell_type": "code",
   "execution_count": null,
   "metadata": {},
   "source": [
    "# Initialize modeler\n",
    "modeler = InsuranceModeler(feature_df, target='claim_amount')\n",
    "\n",
    "# Prepare data\n",
    "X_train, X_test, y_train, y_test = modeler.prepare_data()\n",
    "\n",
    "# Train models\n",
    "modeler.train_linear_regression()\n",
    "modeler.train_xgboost()\n",
    "\n",
    "# Compare models\n",
    "modeler.compare_models()"
   ]
  },
  {
   "cell_type": "markdown",
   "metadata": {},
   "source": [
    "## 4. Visualization"
   ]
  },
  {
   "cell_type": "code",
   "execution_count": null,
   "metadata": {},
   "source": [
    "# Initialize visualizer\n",
    "visualizer = InsuranceVisualizer(feature_df)\n",
    "\n",
    "# Create visualizations\n",
    "visualizer.plot_loss_ratio_distribution()\n",
    "visualizer.plot_claim_severity()\n",
    "visualizer.plot_risk_heatmap()"
   ]
  }
 ],
 "metadata": {
  "kernelspec": {
   "display_name": "Python 3",
   "language": "python",
   "name": "python3"
  },
  "language_info": {
   "codemirror_mode": {
    "name": "ipython",
    "version": 3
   },
   "file_extension": ".py",
   "mimetype": "text/x-python",
   "name": "python",
   "nbconvert_exporter": "python",
   "pygments_lexer": "ipython3",
   "version": "3.8.0"
  }
 },
 "nbformat": 4,
 "nbformat_minor": 4
}
